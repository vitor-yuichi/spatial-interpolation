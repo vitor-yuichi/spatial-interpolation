{
 "cells": [
  {
   "cell_type": "code",
   "execution_count": 2,
   "id": "e27164a9",
   "metadata": {},
   "outputs": [],
   "source": [
    "#importando bibliotecas\n",
    "import numpy as np\n",
    "import sys\n",
    "import os\n"
   ]
  },
  {
   "cell_type": "code",
   "execution_count": 2,
   "id": "69ec53e1",
   "metadata": {},
   "outputs": [],
   "source": [
    "filename = sys.argv[1]\n",
    "path_out = sys.argv[2]\n",
    "file_out = os.path.basename(filename)"
   ]
  },
  {
   "cell_type": "code",
   "execution_count": 3,
   "id": "38a57baa",
   "metadata": {},
   "outputs": [],
   "source": [
    "path_file = '/home/ayumi/final_project_university/raw_file_data/pŕocessed_file/jan_2019_recorte_radar/R13537439_201901010000.raw'\n",
    "with open(path_file, 'rb') as file:\n",
    "    dbz = np.fromfile(file, dtype = np.float32)"
   ]
  },
  {
   "cell_type": "markdown",
   "id": "8f79fe53",
   "metadata": {},
   "source": [
    "### Sobre o arquivo dbz\n",
    " \n",
    " Este arquivo .raw é um arranjo unidimensional de 250000 em formato binário, ou seja, pode ser matriciado em 500 por 500. "
   ]
  },
  {
   "cell_type": "code",
   "execution_count": 4,
   "id": "d79b5709",
   "metadata": {},
   "outputs": [
    {
     "data": {
      "text/plain": [
       "20640"
      ]
     },
     "execution_count": 4,
     "metadata": {},
     "output_type": "execute_result"
    }
   ],
   "source": [
    "dbz.size #tamanho da arraty"
   ]
  },
  {
   "cell_type": "code",
   "execution_count": 33,
   "id": "833db964",
   "metadata": {},
   "outputs": [
    {
     "data": {
      "text/plain": [
       "array([-99., -99., -99., ..., -99., -99., -99.], dtype=float32)"
      ]
     },
     "execution_count": 33,
     "metadata": {},
     "output_type": "execute_result"
    }
   ],
   "source": [
    "dbz"
   ]
  },
  {
   "cell_type": "code",
   "execution_count": 20,
   "id": "6b32dd4e",
   "metadata": {
    "scrolled": true
   },
   "outputs": [
    {
     "data": {
      "text/plain": [
       "500"
      ]
     },
     "execution_count": 20,
     "metadata": {},
     "output_type": "execute_result"
    }
   ],
   "source": [
    "import math\n",
    "int(math.sqrt(dbz.size))"
   ]
  },
  {
   "cell_type": "markdown",
   "id": "a3f5c581",
   "metadata": {},
   "source": [
    "### Extensão do Radar"
   ]
  },
  {
   "cell_type": "code",
   "execution_count": 21,
   "id": "1eabe847",
   "metadata": {},
   "outputs": [],
   "source": [
    "# Extensao Radar Sao Roque (CAPPI)\n",
    "nx = 500\n",
    "ny = 500\n",
    "dx = 0.009957\n",
    "dy = -0.0090014\n",
    "x1 = -49.5786\n",
    "y1 = -21.3379 + ny*dy"
   ]
  },
  {
   "cell_type": "code",
   "execution_count": 22,
   "id": "95957ce5",
   "metadata": {},
   "outputs": [],
   "source": [
    "# Recorte RMSP + 10km\n",
    "xMin = -47.298125\n",
    "yMin = -24.153483\n",
    "xMax = -45.604801\n",
    "yMax = -23.092909"
   ]
  },
  {
   "cell_type": "code",
   "execution_count": 23,
   "id": "23653cba",
   "metadata": {},
   "outputs": [],
   "source": [
    "\n",
    "i1 = int(np.floor((yMin - y1)/(dy*-1))-1)\n",
    "i2 = int(np.ceil((yMax - y1)/(dy*-1)))\n",
    "j1 = int(np.floor((xMin - x1)/(dx))-1)\n",
    "j2 = int(np.ceil((xMax - x1)/(dx)))"
   ]
  },
  {
   "cell_type": "code",
   "execution_count": 35,
   "id": "7da94fe3",
   "metadata": {},
   "outputs": [
    {
     "data": {
      "text/plain": [
       "306"
      ]
     },
     "execution_count": 35,
     "metadata": {},
     "output_type": "execute_result"
    }
   ],
   "source": [
    "i2"
   ]
  },
  {
   "cell_type": "markdown",
   "id": "b89a2056",
   "metadata": {},
   "source": [
    "## Reshape"
   ]
  },
  {
   "cell_type": "code",
   "execution_count": 30,
   "id": "a4557ecc",
   "metadata": {},
   "outputs": [],
   "source": [
    "data = dbz.reshape(nx, ny)"
   ]
  },
  {
   "cell_type": "code",
   "execution_count": 32,
   "id": "ef65c39a",
   "metadata": {},
   "outputs": [
    {
     "data": {
      "text/plain": [
       "array([[-99., -99., -99., ..., -99., -99., -99.],\n",
       "       [-99., -99., -99., ..., -99., -99., -99.],\n",
       "       [-99., -99., -99., ..., -99., -99., -99.],\n",
       "       ...,\n",
       "       [-99., -99., -99., ..., -99., -99., -99.],\n",
       "       [-99., -99., -99., ..., -99., -99., -99.],\n",
       "       [-99., -99., -99., ..., -99., -99., -99.]], dtype=float32)"
      ]
     },
     "execution_count": 32,
     "metadata": {},
     "output_type": "execute_result"
    }
   ],
   "source": [
    "np.flipud(data)"
   ]
  }
 ],
 "metadata": {
  "kernelspec": {
   "display_name": "Python 3 (ipykernel)",
   "language": "python",
   "name": "python3"
  },
  "language_info": {
   "codemirror_mode": {
    "name": "ipython",
    "version": 3
   },
   "file_extension": ".py",
   "mimetype": "text/x-python",
   "name": "python",
   "nbconvert_exporter": "python",
   "pygments_lexer": "ipython3",
   "version": "3.10.5"
  }
 },
 "nbformat": 4,
 "nbformat_minor": 5
}
