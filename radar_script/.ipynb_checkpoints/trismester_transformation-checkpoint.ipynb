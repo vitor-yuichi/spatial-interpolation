{
 "cells": [
  {
   "cell_type": "code",
   "execution_count": 1,
   "metadata": {},
   "outputs": [],
   "source": [
    "#importando biblitecas\n",
    "import pandas as pd \n",
    "import numpy as np \n",
    "import os"
   ]
  },
  {
   "cell_type": "code",
   "execution_count": null,
   "metadata": {},
   "outputs": [],
   "source": [
    "PATH_TO_FILES = {\n",
    "    'jan_2019': os.listdir('/home/ayumi/final_project_university/raw_file_data/pŕocessed_file/jan_2019_gera_bin_prec'),\n",
    "    'fev_2019': os.listdir('/home/ayumi/final_project_university/raw_file_data/pŕocessed_file/fev_2019_gera_bin_prec'),\n",
    "    'mar_2019': os.listdir('/home/ayumi/final_project_university/raw_file_data/pŕocessed_file/mar_2019_gera_bin_prec')\n",
    "}"
   ]
  }
 ],
 "metadata": {
  "kernelspec": {
   "display_name": "Python 3 (ipykernel)",
   "language": "python",
   "name": "python3"
  },
  "language_info": {
   "codemirror_mode": {
    "name": "ipython",
    "version": 3
   },
   "file_extension": ".py",
   "mimetype": "text/x-python",
   "name": "python",
   "nbconvert_exporter": "python",
   "pygments_lexer": "ipython3",
   "version": "3.10.5"
  }
 },
 "nbformat": 4,
 "nbformat_minor": 2
}
